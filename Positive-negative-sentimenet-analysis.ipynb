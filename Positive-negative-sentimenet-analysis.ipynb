{
  "cells": [
    {
      "cell_type": "code",
      "execution_count": null,
      "metadata": {
        "colab": {
          "base_uri": "https://localhost:8080/"
        },
        "id": "324ee5f4",
        "outputId": "a26ea730-25c5-488a-dd12-9062d8e3d52d"
      },
      "outputs": [
        {
          "output_type": "stream",
          "name": "stderr",
          "text": [
            "[nltk_data] Downloading package movie_reviews to /root/nltk_data...\n",
            "[nltk_data]   Unzipping corpora/movie_reviews.zip.\n",
            "[nltk_data] Downloading package sentiwordnet to /root/nltk_data...\n",
            "[nltk_data]   Unzipping corpora/sentiwordnet.zip.\n",
            "[nltk_data] Downloading package punkt to /root/nltk_data...\n",
            "[nltk_data]   Unzipping tokenizers/punkt.zip.\n",
            "[nltk_data] Downloading package wordnet to /root/nltk_data...\n",
            "[nltk_data] Downloading package averaged_perceptron_tagger to\n",
            "[nltk_data]     /root/nltk_data...\n",
            "[nltk_data]   Unzipping taggers/averaged_perceptron_tagger.zip.\n"
          ]
        }
      ],
      "source": [
        "import nltk\n",
        "nltk.download('movie_reviews')\n",
        "from nltk.corpus import movie_reviews as mr\n",
        "from sklearn.feature_extraction.text import CountVectorizer\n",
        "import pandas as pd\n",
        "from sklearn.model_selection import train_test_split\n",
        "\n",
        "from nltk.corpus import sentiwordnet as swn\n",
        "nltk.download('sentiwordnet')\n",
        "nltk.download('punkt')\n",
        "\n",
        "nltk.download('wordnet')\n",
        "nltk.download('averaged_perceptron_tagger')\n",
        "\n",
        "\n",
        "import numpy as np\n",
        "from matplotlib import pyplot as plt\n",
        "\n",
        "\n",
        "import re\n",
        "import unicodedata"
      ],
      "id": "324ee5f4"
    },
    {
      "cell_type": "markdown",
      "metadata": {
        "id": "UcT0PsA_JSzI"
      },
      "source": [
        "# 2 a)\n"
      ],
      "id": "UcT0PsA_JSzI"
    },
    {
      "cell_type": "markdown",
      "metadata": {
        "id": "V04fHp1rNgox"
      },
      "source": [
        "### Train/Test Splitting"
      ],
      "id": "V04fHp1rNgox"
    },
    {
      "cell_type": "code",
      "execution_count": null,
      "metadata": {
        "id": "c586f589"
      },
      "outputs": [],
      "source": [
        "positius = mr.fileids('pos')\n",
        "negatius = mr.fileids('neg')\n",
        "_positius = [mr.raw(p) for p in positius]\n",
        "_negatius = [mr.raw(p) for p in negatius]\n",
        "\n",
        "#com que s'ha de preservar l'ordre de positius i negatius, primer divideixo en train, val i test i després faig merge.\n",
        "\n",
        "train_pos, test_pos = train_test_split(_positius, test_size = 0.2, random_state = 23122003)\n",
        "\n",
        "train_neg, test_neg = train_test_split(_negatius, test_size = 0.2, random_state = 23122003)\n",
        "\n",
        "train = train_pos.copy()  \n",
        "train.extend(train_neg) \n",
        "\n",
        "test = test_pos.copy()  \n",
        "test.extend(test_neg)\n"
      ],
      "id": "c586f589"
    },
    {
      "cell_type": "markdown",
      "metadata": {
        "id": "47uagdrTNdWQ"
      },
      "source": [
        "### Preprocessament comú"
      ],
      "id": "47uagdrTNdWQ"
    },
    {
      "cell_type": "code",
      "execution_count": null,
      "metadata": {
        "id": "21ad62eb"
      },
      "outputs": [],
      "source": [
        "def preprocessador(sent):\n",
        "  # Eliminació de caràcters especials (Signes de puntuació, nombres...)\n",
        "  text_without_special_chars = re.sub(r\"\\d+|[^\\w\\d'\\s]\", '', sent)\n",
        "\n",
        "  # Eliminació de caràcters no ASCII\n",
        "  text_ascii_only = unicodedata.normalize('NFKD', text_without_special_chars).encode('ascii', 'ignore').decode('utf-8')\n",
        "  \n",
        "  # Canvi de dobles espais a un sol\n",
        "  text_single_space = re.sub(\"  \",' ',text_ascii_only)\n",
        "\n",
        "  # Conversió del text a lletra estrictament minúscula \n",
        "  text_lower = text_single_space.lower()\n",
        "\n",
        "  # Eliminació del caràcter '\\n'\n",
        "  text_cleaned = text_lower.replace('\\n', '')\n",
        "\n",
        "  return text_cleaned\n",
        "\n",
        "train_preprocessat = []\n",
        "for doc in train:\n",
        "  train_preprocessat.append(preprocessador(doc))\n",
        "\n",
        "test_preprocessat = []\n",
        "for doc in test:\n",
        "  test_preprocessat.append(preprocessador(doc))\n",
        "  "
      ],
      "id": "21ad62eb"
    },
    {
      "cell_type": "markdown",
      "metadata": {
        "id": "bdf4305a"
      },
      "source": [
        "# Baseline model"
      ],
      "id": "bdf4305a"
    },
    {
      "cell_type": "markdown",
      "metadata": {
        "id": "f3f1641b"
      },
      "source": [
        "### Lesk Synsets way"
      ],
      "id": "f3f1641b"
    },
    {
      "cell_type": "code",
      "execution_count": null,
      "metadata": {
        "colab": {
          "base_uri": "https://localhost:8080/",
          "height": 432
        },
        "id": "46b6e932",
        "outputId": "68ad8355-d05f-4513-d4ca-1d5cf0f077c2"
      },
      "outputs": [
        {
          "name": "stderr",
          "output_type": "stream",
          "text": [
            "[nltk_data] Downloading package punkt to /root/nltk_data...\n",
            "[nltk_data]   Unzipping tokenizers/punkt.zip.\n",
            "[nltk_data] Downloading package wordnet to /root/nltk_data...\n"
          ]
        },
        {
          "ename": "KeyboardInterrupt",
          "evalue": "ignored",
          "output_type": "error",
          "traceback": [
            "\u001b[0;31m---------------------------------------------------------------------------\u001b[0m",
            "\u001b[0;31mKeyboardInterrupt\u001b[0m                         Traceback (most recent call last)",
            "\u001b[0;32m<ipython-input-6-4ec6c3e42c7e>\u001b[0m in \u001b[0;36m<cell line: 8>\u001b[0;34m()\u001b[0m\n\u001b[1;32m      7\u001b[0m \u001b[0mi\u001b[0m\u001b[0;34m=\u001b[0m\u001b[0;36m0\u001b[0m\u001b[0;34m\u001b[0m\u001b[0;34m\u001b[0m\u001b[0m\n\u001b[1;32m      8\u001b[0m \u001b[0;32mfor\u001b[0m \u001b[0mreview\u001b[0m \u001b[0;32min\u001b[0m \u001b[0mtrain\u001b[0m\u001b[0;34m:\u001b[0m\u001b[0;34m\u001b[0m\u001b[0;34m\u001b[0m\u001b[0m\n\u001b[0;32m----> 9\u001b[0;31m     \u001b[0mtokens\u001b[0m \u001b[0;34m=\u001b[0m \u001b[0mnltk\u001b[0m\u001b[0;34m.\u001b[0m\u001b[0mword_tokenize\u001b[0m\u001b[0;34m(\u001b[0m\u001b[0mreview\u001b[0m\u001b[0;34m)\u001b[0m\u001b[0;34m\u001b[0m\u001b[0;34m\u001b[0m\u001b[0m\n\u001b[0m\u001b[1;32m     10\u001b[0m     \u001b[0;32mfor\u001b[0m \u001b[0mtoken\u001b[0m \u001b[0;32min\u001b[0m \u001b[0mtokens\u001b[0m\u001b[0;34m:\u001b[0m\u001b[0;34m\u001b[0m\u001b[0;34m\u001b[0m\u001b[0m\n\u001b[1;32m     11\u001b[0m         \u001b[0msynset\u001b[0m \u001b[0;34m=\u001b[0m \u001b[0mnltk\u001b[0m\u001b[0;34m.\u001b[0m\u001b[0mwsd\u001b[0m\u001b[0;34m.\u001b[0m\u001b[0mlesk\u001b[0m\u001b[0;34m(\u001b[0m\u001b[0mreview\u001b[0m\u001b[0;34m,\u001b[0m \u001b[0mtoken\u001b[0m\u001b[0;34m)\u001b[0m\u001b[0;34m\u001b[0m\u001b[0;34m\u001b[0m\u001b[0m\n",
            "\u001b[0;32m/usr/local/lib/python3.9/dist-packages/nltk/tokenize/__init__.py\u001b[0m in \u001b[0;36mword_tokenize\u001b[0;34m(text, language, preserve_line)\u001b[0m\n\u001b[1;32m    128\u001b[0m     \"\"\"\n\u001b[1;32m    129\u001b[0m     \u001b[0msentences\u001b[0m \u001b[0;34m=\u001b[0m \u001b[0;34m[\u001b[0m\u001b[0mtext\u001b[0m\u001b[0;34m]\u001b[0m \u001b[0;32mif\u001b[0m \u001b[0mpreserve_line\u001b[0m \u001b[0;32melse\u001b[0m \u001b[0msent_tokenize\u001b[0m\u001b[0;34m(\u001b[0m\u001b[0mtext\u001b[0m\u001b[0;34m,\u001b[0m \u001b[0mlanguage\u001b[0m\u001b[0;34m)\u001b[0m\u001b[0;34m\u001b[0m\u001b[0;34m\u001b[0m\u001b[0m\n\u001b[0;32m--> 130\u001b[0;31m     return [\n\u001b[0m\u001b[1;32m    131\u001b[0m         \u001b[0mtoken\u001b[0m \u001b[0;32mfor\u001b[0m \u001b[0msent\u001b[0m \u001b[0;32min\u001b[0m \u001b[0msentences\u001b[0m \u001b[0;32mfor\u001b[0m \u001b[0mtoken\u001b[0m \u001b[0;32min\u001b[0m \u001b[0m_treebank_word_tokenizer\u001b[0m\u001b[0;34m.\u001b[0m\u001b[0mtokenize\u001b[0m\u001b[0;34m(\u001b[0m\u001b[0msent\u001b[0m\u001b[0;34m)\u001b[0m\u001b[0;34m\u001b[0m\u001b[0;34m\u001b[0m\u001b[0m\n\u001b[1;32m    132\u001b[0m     ]\n",
            "\u001b[0;32m/usr/local/lib/python3.9/dist-packages/nltk/tokenize/__init__.py\u001b[0m in \u001b[0;36m<listcomp>\u001b[0;34m(.0)\u001b[0m\n\u001b[1;32m    129\u001b[0m     \u001b[0msentences\u001b[0m \u001b[0;34m=\u001b[0m \u001b[0;34m[\u001b[0m\u001b[0mtext\u001b[0m\u001b[0;34m]\u001b[0m \u001b[0;32mif\u001b[0m \u001b[0mpreserve_line\u001b[0m \u001b[0;32melse\u001b[0m \u001b[0msent_tokenize\u001b[0m\u001b[0;34m(\u001b[0m\u001b[0mtext\u001b[0m\u001b[0;34m,\u001b[0m \u001b[0mlanguage\u001b[0m\u001b[0;34m)\u001b[0m\u001b[0;34m\u001b[0m\u001b[0;34m\u001b[0m\u001b[0m\n\u001b[1;32m    130\u001b[0m     return [\n\u001b[0;32m--> 131\u001b[0;31m         \u001b[0mtoken\u001b[0m \u001b[0;32mfor\u001b[0m \u001b[0msent\u001b[0m \u001b[0;32min\u001b[0m \u001b[0msentences\u001b[0m \u001b[0;32mfor\u001b[0m \u001b[0mtoken\u001b[0m \u001b[0;32min\u001b[0m \u001b[0m_treebank_word_tokenizer\u001b[0m\u001b[0;34m.\u001b[0m\u001b[0mtokenize\u001b[0m\u001b[0;34m(\u001b[0m\u001b[0msent\u001b[0m\u001b[0;34m)\u001b[0m\u001b[0;34m\u001b[0m\u001b[0;34m\u001b[0m\u001b[0m\n\u001b[0m\u001b[1;32m    132\u001b[0m     ]\n",
            "\u001b[0;32m/usr/local/lib/python3.9/dist-packages/nltk/tokenize/destructive.py\u001b[0m in \u001b[0;36mtokenize\u001b[0;34m(self, text, convert_parentheses, return_str)\u001b[0m\n\u001b[1;32m    158\u001b[0m \u001b[0;34m\u001b[0m\u001b[0m\n\u001b[1;32m    159\u001b[0m         \u001b[0;32mfor\u001b[0m \u001b[0mregexp\u001b[0m\u001b[0;34m,\u001b[0m \u001b[0msubstitution\u001b[0m \u001b[0;32min\u001b[0m \u001b[0mself\u001b[0m\u001b[0;34m.\u001b[0m\u001b[0mPUNCTUATION\u001b[0m\u001b[0;34m:\u001b[0m\u001b[0;34m\u001b[0m\u001b[0;34m\u001b[0m\u001b[0m\n\u001b[0;32m--> 160\u001b[0;31m             \u001b[0mtext\u001b[0m \u001b[0;34m=\u001b[0m \u001b[0mregexp\u001b[0m\u001b[0;34m.\u001b[0m\u001b[0msub\u001b[0m\u001b[0;34m(\u001b[0m\u001b[0msubstitution\u001b[0m\u001b[0;34m,\u001b[0m \u001b[0mtext\u001b[0m\u001b[0;34m)\u001b[0m\u001b[0;34m\u001b[0m\u001b[0;34m\u001b[0m\u001b[0m\n\u001b[0m\u001b[1;32m    161\u001b[0m \u001b[0;34m\u001b[0m\u001b[0m\n\u001b[1;32m    162\u001b[0m         \u001b[0;31m# Handles parentheses.\u001b[0m\u001b[0;34m\u001b[0m\u001b[0;34m\u001b[0m\u001b[0m\n",
            "\u001b[0;32m/usr/lib/python3.9/re.py\u001b[0m in \u001b[0;36m_subx\u001b[0;34m(pattern, template)\u001b[0m\n\u001b[1;32m    326\u001b[0m     \u001b[0;31m# internal: Pattern.sub/subn implementation helper\u001b[0m\u001b[0;34m\u001b[0m\u001b[0;34m\u001b[0m\u001b[0m\n\u001b[1;32m    327\u001b[0m     \u001b[0mtemplate\u001b[0m \u001b[0;34m=\u001b[0m \u001b[0m_compile_repl\u001b[0m\u001b[0;34m(\u001b[0m\u001b[0mtemplate\u001b[0m\u001b[0;34m,\u001b[0m \u001b[0mpattern\u001b[0m\u001b[0;34m)\u001b[0m\u001b[0;34m\u001b[0m\u001b[0;34m\u001b[0m\u001b[0m\n\u001b[0;32m--> 328\u001b[0;31m     \u001b[0;32mif\u001b[0m \u001b[0;32mnot\u001b[0m \u001b[0mtemplate\u001b[0m\u001b[0;34m[\u001b[0m\u001b[0;36m0\u001b[0m\u001b[0;34m]\u001b[0m \u001b[0;32mand\u001b[0m \u001b[0mlen\u001b[0m\u001b[0;34m(\u001b[0m\u001b[0mtemplate\u001b[0m\u001b[0;34m[\u001b[0m\u001b[0;36m1\u001b[0m\u001b[0;34m]\u001b[0m\u001b[0;34m)\u001b[0m \u001b[0;34m==\u001b[0m \u001b[0;36m1\u001b[0m\u001b[0;34m:\u001b[0m\u001b[0;34m\u001b[0m\u001b[0;34m\u001b[0m\u001b[0m\n\u001b[0m\u001b[1;32m    329\u001b[0m         \u001b[0;31m# literal replacement\u001b[0m\u001b[0;34m\u001b[0m\u001b[0;34m\u001b[0m\u001b[0m\n\u001b[1;32m    330\u001b[0m         \u001b[0;32mreturn\u001b[0m \u001b[0mtemplate\u001b[0m\u001b[0;34m[\u001b[0m\u001b[0;36m1\u001b[0m\u001b[0;34m]\u001b[0m\u001b[0;34m[\u001b[0m\u001b[0;36m0\u001b[0m\u001b[0;34m]\u001b[0m\u001b[0;34m\u001b[0m\u001b[0;34m\u001b[0m\u001b[0m\n",
            "\u001b[0;31mKeyboardInterrupt\u001b[0m: "
          ]
        }
      ],
      "source": [
        "llista_syn = [ [] for _ in range(len(train_preprocessat)) ]\n",
        "i=0\n",
        "for review in train:\n",
        "    tokens = nltk.word_tokenize(review)\n",
        "    for token in tokens:\n",
        "        synset = nltk.wsd.lesk(review, token)\n",
        "        if synset is not None:\n",
        "            llista_syn[i].append(synset)\n",
        "    \n",
        "    i+=1"
      ],
      "id": "46b6e932"
    },
    {
      "cell_type": "code",
      "execution_count": null,
      "metadata": {
        "id": "QYAdqxy1XJxh"
      },
      "outputs": [],
      "source": [
        "vectorizer = CountVectorizer(analyzer = lambda sent: sent, max_df=0.85, min_df=0.05)\n",
        "\n",
        "X = vectorizer.fit_transform(llista_syn)\n",
        "X_train_lesk = pd.DataFrame(X.toarray())"
      ],
      "id": "QYAdqxy1XJxh"
    },
    {
      "cell_type": "markdown",
      "metadata": {
        "id": "663add6e"
      },
      "source": [
        "### Lemmatized words way"
      ],
      "id": "663add6e"
    },
    {
      "cell_type": "code",
      "execution_count": null,
      "metadata": {
        "id": "sIHI5t3hKILl"
      },
      "outputs": [],
      "source": [
        "nltk.download('averaged_perceptron_tagger')\n",
        "nltk.download('wordnet')\n",
        "nltk.download('omw-1.4')\n",
        "wnl = nltk.stem.WordNetLemmatizer()\n",
        "\n",
        "def lemmatize(p):\n",
        "  d = {'NN': 'n', 'NNS': 'n', \n",
        "       'JJ': 'a', 'JJR': 'a', 'JJS': 'a', \n",
        "       'VB': 'v', 'VBD': 'v', 'VBG': 'v', 'VBN': 'v', 'VBP': 'v', 'VBZ': 'v', \n",
        "       'RB': 'r', 'RBR': 'r', 'RBS': 'r'}\n",
        "  if p[1] in d:\n",
        "    return wnl.lemmatize(p[0], pos=d[p[1]])\n",
        "  return p[0]\n",
        "\n",
        "train_lemmatitzat = []*len(train_preprocessat)\n",
        "\n",
        "for doc in train_preprocessat:\n",
        "  p = nltk.pos_tag((doc).split())\n",
        "  train_lemmatitzat.append([lemmatize(pair) for pair in p])"
      ],
      "id": "sIHI5t3hKILl"
    },
    {
      "cell_type": "code",
      "execution_count": null,
      "metadata": {
        "id": "p_RNbfK3UfbA"
      },
      "outputs": [],
      "source": [
        "countvectorizer_lem = CountVectorizer(analyzer = lambda sent: sent, stop_words='english', max_df=0.85, min_df=0.05)\n",
        "X = countvectorizer_lem.fit_transform(train_lemmatitzat)\n",
        "X_train_word = pd.DataFrame(X.toarray())"
      ],
      "id": "p_RNbfK3UfbA"
    },
    {
      "cell_type": "markdown",
      "metadata": {
        "id": "7cc8f901"
      },
      "source": [
        "### 3 Synsets most frequent way"
      ],
      "id": "7cc8f901"
    },
    {
      "cell_type": "code",
      "execution_count": null,
      "metadata": {
        "id": "Y14WivAxRYps"
      },
      "outputs": [],
      "source": [
        "from nltk.corpus import wordnet as wn\n",
        "\n",
        "countvectorizer_5 = CountVectorizer(stop_words='english',max_df=0.85, min_df = 0.05)\n",
        "X = countvectorizer_5.fit_transform(train_preprocessat)\n",
        "names = countvectorizer_5.get_feature_names_out()\n",
        "\n",
        "paraules = {}\n",
        "\n",
        "for name in names:\n",
        "    paraules[name] = []\n",
        "    for s in wn.synsets(name):\n",
        "        aparicions = 0\n",
        "        for l in s.lemmas():\n",
        "            aparicions += l.count()\n",
        "        paraules[name].append((s,aparicions))\n",
        "\n",
        "for name in paraules:\n",
        "    paraules[name].sort(key=lambda x: x[1], reverse=True)\n",
        "\n",
        "for name in paraules:\n",
        "    paraules[name] = paraules[name][:3]"
      ],
      "id": "Y14WivAxRYps"
    },
    {
      "cell_type": "code",
      "execution_count": null,
      "metadata": {
        "id": "B-JoOOsMSf2G"
      },
      "outputs": [],
      "source": [
        "synsets = set(synset[0] for synset_list in paraules.values() for synset in synset_list)\n",
        "lsynsets = list(synsets)\n",
        "\n",
        "X = pd.DataFrame(X.toarray())\n",
        "\n",
        "d1 = {}\n",
        "\n",
        "for synset in lsynsets:\n",
        "    d1[synset] = [0]*len(X.index)\n",
        "\n",
        "for fila in range(len(X.index)):\n",
        "    for paraula in range(len(names)):\n",
        "        for syn in paraules[names[paraula]]:\n",
        "            d1[syn[0]][fila] += X[paraula][fila]\n"
      ],
      "id": "B-JoOOsMSf2G"
    },
    {
      "cell_type": "code",
      "execution_count": null,
      "metadata": {
        "id": "5hS338UccOrm"
      },
      "outputs": [],
      "source": [
        "X_train_5_syn = pd.DataFrame(d1)"
      ],
      "id": "5hS338UccOrm"
    },
    {
      "cell_type": "markdown",
      "metadata": {
        "id": "lpG4nuAkZtks"
      },
      "source": [
        "**Train and test definition**"
      ],
      "id": "lpG4nuAkZtks"
    },
    {
      "cell_type": "code",
      "execution_count": null,
      "metadata": {
        "id": "ZLwZ_IDpZzJB"
      },
      "outputs": [],
      "source": [
        "labels = [1]*800 + [0]*800\n",
        "\n",
        "#X_train_5_syn\n",
        "#---------------------------------------------------------------------------------------------------------\n",
        "\n",
        "X_train_5 = pd.concat([pd.DataFrame(labels, columns = ['sentiment']), X_train_5_syn], axis=1)\n",
        "X_train_5 = X_train_5.sample(frac=1, random_state = 23122003).reset_index(drop=True)\n",
        "y_train_5 = X_train_5['sentiment']\n",
        "X_train_5.drop('sentiment', axis=1,inplace = True)\n",
        "#---------------------------------------------------------------------------------------------------------\n",
        "\n",
        "#X_train_lesk\n",
        "#---------------------------------------------------------------------------------------------------------\n",
        "X_train_l = pd.concat([pd.DataFrame(labels, columns = ['sentiment']), X_train_lesk], axis=1)\n",
        "X_train_l = X_train_l.sample(frac=1, random_state = 23122003).reset_index(drop=True)\n",
        "y_train_l = X_train_l['sentiment']\n",
        "X_train_l.drop('sentiment', axis=1,inplace = True)\n",
        "#---------------------------------------------------------------------------------------------------------\n",
        "\n",
        "#X_train_word_lematized\n",
        "#---------------------------------------------------------------------------------------------------------\n",
        "X_train_w = X_train_word\n",
        "\n",
        "# separate the dataframe into two based on the first column value\n",
        "df_1 = X_train_w.iloc[:800]\n",
        "df_0 = X_train_w.iloc[ 800:]\n",
        "\n",
        "# calculate the sum of each column in each dataframe\n",
        "df_1_sum = df_1.sum()\n",
        "df_0_sum = df_0.sum()\n",
        "\n",
        "# initialize a list to store the column indices that meet the criteria\n",
        "result = []\n",
        "\n",
        "# loop through each column in df_1 and compare its sum with the corresponding column in df_0\n",
        "for i in range(1, len(df_1_sum)-1):\n",
        "    if abs(df_1_sum.iloc[i] - df_0_sum.iloc[i]) <= 15:\n",
        "        result.append(i)\n",
        "\n",
        "# delete the columns in the list result from the original dataframe\n",
        "X_train_w.drop(X_train_w.columns[result], axis=1, inplace=True)\n",
        "\n",
        "# create a new vocabulary dictionary without the words whose indices are in the result list\n",
        "new_vocab = {k: v for k, v in countvectorizer_lem.vocabulary_.items() if v not in result}\n",
        "\n",
        "# create a new dictionary that maps the original values to their new indices\n",
        "new_indices = {k: i for i, k in enumerate(sorted(new_vocab.keys()))}\n",
        "\n",
        "# create a new dictionary with the updated indices\n",
        "new_vocab = {k: new_indices[k] for k in new_indices.keys()}\n",
        "\n",
        "# create a new dataframe with the words reordered according to the new order of the CountVectorizer object's vocabulary\n",
        "X_train_w_reordered = pd.DataFrame()\n",
        "\n",
        "for colname in X_train_w.columns:\n",
        "  word = list(countvectorizer_lem.vocabulary_.keys())[list(countvectorizer_lem.vocabulary_.values()).index(colname)]\n",
        "  if word in new_vocab.keys():\n",
        "    X_train_w_reordered[new_vocab[word]] = X_train_w[colname]\n",
        "\n",
        "X_train_w_reordered = pd.concat([pd.DataFrame(labels, columns = ['sentiment']), X_train_w_reordered], axis=1)\n",
        "\n",
        "X_train_w_reordered = X_train_w_reordered.sample(frac=1, random_state = 23122003).reset_index(drop=True)\n",
        "y_train_word_lematized = X_train_w_reordered['sentiment']\n",
        "X_train_w_reordered.drop('sentiment', axis=1,inplace = True)\n",
        "\n",
        "X_train_word_lematized = X_train_w_reordered\n",
        "\n",
        "#---------------------------------------------------------------------------------------------------------\n",
        "\n",
        "#X_train_world_original:\n",
        "\n",
        "countvectorizer_original = CountVectorizer(stop_words='english', max_df=0.85, min_df=0.05)\n",
        "X = countvectorizer_original.fit_transform(train_preprocessat)\n",
        "X_train_world_original = pd.DataFrame(X.toarray())\n",
        "\n",
        "X_train_world_original = pd.concat([pd.DataFrame(labels, columns = ['sentiment']), X_train_world_original], axis=1)\n",
        "\n",
        "X_train_world_original = X_train_world_original.sample(frac=1, random_state = 23122003).reset_index(drop=True)\n",
        "y_train_world_original = X_train_world_original['sentiment']\n",
        "X_train_world_original.drop('sentiment', axis=1,inplace = True)\n"
      ],
      "id": "ZLwZ_IDpZzJB"
    },
    {
      "cell_type": "code",
      "execution_count": null,
      "metadata": {
        "id": "UIoXlNUDIVwV"
      },
      "outputs": [],
      "source": [
        "##test\n",
        "labels = [1]*200 + [0]*200\n",
        "\n",
        "#word original way\n",
        "#---------------------------------------------------------------------------------------------------------\n",
        "X = countvectorizer_original.transform(test_preprocessat)\n",
        "X_test_world_original = pd.DataFrame(X.toarray())\n",
        "\n",
        "X_test_world_original = pd.concat([pd.DataFrame(labels, columns = ['sentiment']), X_test_world_original], axis=1)\n",
        "X_test_world_original = X_test_world_original.sample(frac=1, random_state = 23122003).reset_index(drop=True)\n",
        "y_test_world_original = X_test_world_original['sentiment']\n",
        "X_test_world_original.drop('sentiment', axis=1,inplace = True)\n",
        "\n",
        "#---------------------------------------------------------------------------------------------------------\n",
        "\n",
        "#words lemmatized way\n",
        "#---------------------------------------------------------------------------------------------------------\n",
        "\n",
        "test_lemmatitzat = []*len(test_preprocessat)\n",
        "\n",
        "for doc in test_preprocessat:\n",
        "  p = nltk.pos_tag((doc).split())\n",
        "  test_lemmatitzat.append([lemmatize(pair) for pair in p])\n",
        "\n",
        "countvectorizer_lem.vocabulary_ = new_vocab\n",
        "\n",
        "X = countvectorizer_lem.transform(test_lemmatitzat)\n",
        "X_test_word = pd.DataFrame(X.toarray())\n",
        "\n",
        "labels = [1]*200 + [0]*200\n",
        "\n",
        "X_test_word_lematized = pd.concat([pd.DataFrame(labels, columns = ['sentiment']), X_test_word], axis=1)\n",
        "X_test_word_lematized = X_test_word_lematized.sample(frac=1, random_state = 23122003).reset_index(drop=True)\n",
        "y_test_word_lematized = X_test_word_lematized['sentiment']\n",
        "X_test_word_lematized.drop('sentiment', axis=1,inplace = True)\n",
        "\n",
        "#---------------------------------------------------------------------------------------------------------\n",
        "\n",
        "\n",
        "#5 synsets way\n",
        "#---------------------------------------------------------------------------------------------------------\n",
        "X = countvectorizer_5.transform(test_preprocessat)\n",
        "\n",
        "X = pd.DataFrame(X.toarray())\n",
        "\n",
        "d1 = {}\n",
        "\n",
        "for synset in lsynsets:\n",
        "    d1[synset] = [0]*len(X.index)\n",
        "\n",
        "for fila in range(len(X.index)):\n",
        "    for paraula in range(len(names)):\n",
        "        for syn in paraules[names[paraula]]:\n",
        "            d1[syn[0]][fila] += X[paraula][fila]\n",
        "\n",
        "X_test_5_syn = pd.DataFrame(d1)\n",
        "\n",
        "X_test_5 = pd.concat([pd.DataFrame(labels, columns = ['sentiment']), X_test_5_syn], axis=1)\n",
        "X_test_5 = X_test_5.sample(frac=1, random_state = 23122003).reset_index(drop=True)\n",
        "y_test_5 = X_test_5['sentiment']\n",
        "X_test_5.drop('sentiment', axis=1,inplace = True)\n",
        "\n",
        "#---------------------------------------------------------------------------------------------------------\n",
        "\n",
        "#lesk synsets way:\n",
        "#---------------------------------------------------------------------------------------------------------\n",
        "\n",
        "llista_syn_test = [ [] for _ in range(len(test_preprocessat)) ]\n",
        "\n",
        "i=0\n",
        "for review in test_preprocessat:\n",
        "    tokens = nltk.word_tokenize(review)\n",
        "    for token in tokens:\n",
        "        synset = nltk.wsd.lesk(review, token)\n",
        "        if synset is not None:\n",
        "            llista_syn_test[i].append(synset)\n",
        "    i+=1\n",
        "\n",
        "X = vectorizer.transform(llista_syn_test)\n",
        "X_test_l = pd.DataFrame(X.toarray())\n",
        "\n",
        "X_test_lesk = pd.concat([pd.DataFrame(labels, columns = ['sentiment']), X_test_l], axis=1)\n",
        "X_test_lesk = X_test_lesk.sample(frac=1, random_state = 23122003).reset_index(drop=True)\n",
        "y_test_lesk = X_test_lesk['sentiment']\n",
        "X_test_lesk.drop('sentiment', axis=1,inplace = True)\n",
        "\n",
        "#---------------------------------------------------------------------------------------------------------\n"
      ],
      "id": "UIoXlNUDIVwV"
    },
    {
      "cell_type": "markdown",
      "metadata": {
        "id": "2Zmr1EYTIff2"
      },
      "source": [
        "**Decision Tree Classifier**"
      ],
      "id": "2Zmr1EYTIff2"
    },
    {
      "cell_type": "code",
      "execution_count": null,
      "metadata": {
        "collapsed": true,
        "id": "BZuIOzfRbmQf"
      },
      "outputs": [],
      "source": [
        "from sklearn.tree import DecisionTreeClassifier\n",
        "from sklearn.model_selection import GridSearchCV\n",
        "from sklearn.metrics import f1_score, accuracy_score\n",
        "from sklearn.pipeline import Pipeline\n",
        "\n",
        "# Define hyperparameters and search space for each dataset\n",
        "hyperparams = {'max_depth': [5,8,10,12], 'min_samples_split': [2, 4, 6], \"criterion\" : ['gini','entropy']}\n",
        "\n",
        "# Define parameter grids for each dataset\n",
        "param_grid_5 = {'clf__' + key: hyperparams[key] for key in hyperparams}\n",
        "param_grid_l = {'clf__' + key: hyperparams[key] for key in hyperparams}\n",
        "param_grid_w_l = {'clf__' + key: hyperparams[key] for key in hyperparams}\n",
        "param_grid_w_o = {'clf__' + key: hyperparams[key] for key in hyperparams}\n",
        "\n",
        "\n",
        "# Define classifiers for each dataset\n",
        "clf_5 = DecisionTreeClassifier(random_state=23122003)\n",
        "clf_l = DecisionTreeClassifier(random_state=23122003)\n",
        "clf_w_l = DecisionTreeClassifier(random_state=23122003)\n",
        "clf_w_o = DecisionTreeClassifier(random_state=23122003)\n",
        "\n",
        "\n",
        "# Define pipeline for each dataset\n",
        "pipeline_5 = Pipeline(steps=[('clf', clf_5)])\n",
        "pipeline_l = Pipeline(steps=[('clf', clf_l)])\n",
        "pipeline_w_l = Pipeline(steps=[('clf', clf_w_l)])\n",
        "pipeline_w_o = Pipeline(steps=[('clf', clf_w_o)])\n",
        "\n",
        "\n",
        "# Define grid search with cross-validation for each dataset\n",
        "grid_search_5 = GridSearchCV(pipeline_5, param_grid_5, cv=5, scoring='f1')\n",
        "grid_search_l = GridSearchCV(pipeline_l, param_grid_l, cv=5, scoring='f1')\n",
        "grid_search_w_l = GridSearchCV(pipeline_w_l, param_grid_w_l, cv=5, scoring='f1')\n",
        "grid_search_w_o = GridSearchCV(pipeline_w_o, param_grid_w_o, cv=5, scoring='f1')\n",
        "\n",
        "\n",
        "# Fit the grid search on each dataset\n",
        "grid_search_5.fit(X_train_5, y_train_5)\n",
        "grid_search_l.fit(X_train_l, y_train_l)\n",
        "grid_search_w_l.fit(X_train_word_lematized, y_train_word_lematized)\n",
        "grid_search_w_o.fit(X_train_world_original, y_train_world_original)\n",
        "\n",
        "\n",
        "# Print the best hyperparameters and corresponding scores for each dataset\n",
        "print('X_train_5_syn best hyperparameters:', grid_search_5.best_params_)\n",
        "print('X_train_5_syn best F1 score:', grid_search_5.best_score_)\n",
        "\n",
        "print('X_train_lesk best hyperparameters:', grid_search_l.best_params_)\n",
        "print('X_train_lesk best F1 score:', grid_search_l.best_score_)\n",
        "\n",
        "print('X_train_word_lematized best hyperparameters:', grid_search_w_l.best_params_)\n",
        "print('X_train_word_lematized best F1 score:', grid_search_w_l.best_score_)\n",
        "\n",
        "print('X_train_world_original best hyperparameters:', grid_search_w_o.best_params_)\n",
        "print('X_train_world_original best F1 score:', grid_search_w_o.best_score_)"
      ],
      "id": "BZuIOzfRbmQf"
    },
    {
      "cell_type": "code",
      "execution_count": null,
      "metadata": {
        "id": "z72QnzbLTkKK"
      },
      "outputs": [],
      "source": [
        "from sklearn.tree import DecisionTreeClassifier\n",
        "\n",
        "# Initialize the model with hyperparameters\n",
        "rf_5 = DecisionTreeClassifier(random_state=23122003, criterion = 'gini', max_depth = 5, min_samples_split = 2)\n",
        "rf_lesk = DecisionTreeClassifier(random_state=23122003, criterion = 'gini', max_depth = 5, min_samples_split = 2)\n",
        "rf_word_lemmatized = DecisionTreeClassifier(random_state=23122003, criterion = 'entropy', max_depth = 8, min_samples_split = 4)\n",
        "rf_word_original = DecisionTreeClassifier(random_state=23122003, criterion = 'entropy', max_depth = 8, min_samples_split = 2)\n",
        "\n",
        "# Fit the model to the training data\n",
        "rf_5.fit(X_train_5, y_train_5)\n",
        "# Predict the labels of the test data\n",
        "y_pred = rf_5.predict(X_test_5)\n",
        "# Evaluate the model performance on the test data\n",
        "accuracy = rf_5.score(X_test_5, y_test_5)\n",
        "print(\"Decision tree accuracy of 5 synsets:\", accuracy)\n",
        "\n",
        "# Fit the model to the training data\n",
        "rf_lesk.fit(X_train_l, y_train_l)\n",
        "# Predict the labels of the test data\n",
        "y_pred = rf_lesk.predict(X_test_lesk )\n",
        "# Evaluate the model performance on the test data\n",
        "accuracy = rf_lesk.score(X_test_lesk , y_test_lesk)\n",
        "print(\"Decision tree accuracy:\", accuracy)\n",
        "\n",
        "# Fit the model to the training data\n",
        "rf_word_lemmatized.fit(X_train_word_lematized, y_train_word_lematized)\n",
        "# Predict the labels of the test data\n",
        "y_pred = rf_word_lemmatized.predict(X_test_word_lematized)\n",
        "# Evaluate the model performance on the test data\n",
        "accuracy = rf_word_lemmatized.score(X_test_word_lematized , y_test_word_lematized)\n",
        "print(\"Decision tree accuracy word lemmatized:\", accuracy)\n",
        "\n",
        "# Fit the model to the training data\n",
        "rf_word_original.fit(X_train_world_original, y_train_world_original)\n",
        "# Predict the labels of the test data\n",
        "y_pred = rf_word_original.predict(X_test_world_original )\n",
        "# Evaluate the model performance on the test data\n",
        "accuracy = rf_word_original.score(X_test_world_original , y_test_world_original)\n",
        "print(\"Decision tree accuracy word original:\", accuracy)\n"
      ],
      "id": "z72QnzbLTkKK"
    },
    {
      "cell_type": "markdown",
      "metadata": {
        "id": "n0VXYkNzFlAe"
      },
      "source": [
        "***Random forest***"
      ],
      "id": "n0VXYkNzFlAe"
    },
    {
      "cell_type": "markdown",
      "metadata": {
        "id": "9a99fa12"
      },
      "source": [
        "Random Hyperparameter Grid\n"
      ],
      "id": "9a99fa12"
    },
    {
      "cell_type": "code",
      "execution_count": null,
      "metadata": {
        "id": "52a95a4b"
      },
      "outputs": [],
      "source": [
        "from sklearn.ensemble import RandomForestClassifier\n",
        "from sklearn.model_selection import RandomizedSearchCV\n",
        "\n",
        "\n",
        "# Cross-validation:\n",
        "\n",
        "# Define the hyperparameter grid\n",
        "n_estimators = [5,10,20,50,100]\n",
        "max_features = ['log2', 'sqrt']\n",
        "max_depth = [2,5,8,10]\n",
        "min_samples_split = [2, 5, 7, 8,10,20]\n",
        "min_samples_leaf = [1, 2, 4, 8, 10]\n",
        "bootstrap = [True, False]\n",
        "\n",
        "random_grid = {'n_estimators': n_estimators,\n",
        "            'max_features': max_features,\n",
        "            'max_depth': max_depth,\n",
        "            'min_samples_split': min_samples_split,\n",
        "            'min_samples_leaf': min_samples_leaf,\n",
        "            'bootstrap': bootstrap}\n",
        "\n",
        "# Create a RandomForestClassifier object\n",
        "rf = RandomForestClassifier()\n",
        "\n",
        "# Define the RandomizedSearchCV object\n",
        "rf_random_lesk = RandomizedSearchCV(estimator=rf, \n",
        "                            param_distributions=random_grid, \n",
        "                            n_iter=50, \n",
        "                            cv=3, \n",
        "                            scoring='accuracy',\n",
        "                            random_state=23122003)\n",
        "\n",
        "# Define the RandomizedSearchCV object\n",
        "rf_random_5 = RandomizedSearchCV(estimator=rf, \n",
        "                            param_distributions=random_grid, \n",
        "                            n_iter=50, \n",
        "                            cv=3, \n",
        "                            scoring='f1',\n",
        "                            random_state=23122003)\n",
        "# Define the RandomizedSearchCV object\n",
        "rf_random_w_o = RandomizedSearchCV(estimator=rf, \n",
        "                            param_distributions=random_grid, \n",
        "                            n_iter=50, \n",
        "                            cv=3, \n",
        "                            scoring='f1', \n",
        "                            random_state=23122003)\n",
        "\n",
        "# Define the RandomizedSearchCV object\n",
        "rf_random_w_l = RandomizedSearchCV(estimator=rf, \n",
        "                            param_distributions=random_grid, \n",
        "                            n_iter=50, \n",
        "                            cv=3, \n",
        "                            scoring='f1', \n",
        "                            random_state=23122003)\n",
        "\n",
        "\n",
        "# Fit the grid search on each dataset\n",
        "rf_random_5.fit(X_train_5, y_train_5)\n",
        "rf_random_lesk.fit(X_train_l, y_train_l)\n",
        "rf_random_w_o.fit(X_train_world_original, y_train_world_original)\n",
        "rf_random_w_l.fit(X_train_word_lematized, y_train_word_lematized)\n",
        "\n",
        "\n",
        "# Print the best hyperparameters and corresponding scores for each dataset\n",
        "print('X_train_5_syn best hyperparameters:', rf_random_5.best_params_)\n",
        "print('X_train_5_syn best F1 score:', rf_random_5.best_score_)\n",
        "\n",
        "print('X_train_lesk best hyperparameters:', rf_random_lesk.best_params_)\n",
        "print('X_train_lesk best F1 score:', rf_random_lesk.best_score_)\n",
        "\n",
        "print('X_train_world_original best hyperparameters:', rf_random_w_l.best_params_)\n",
        "print('X_train_world_original best accuracy score:', rf_random_w_l.best_score_)\n",
        "\n",
        "print('X_train_word_lematized best hyperparameters:', rf_random_w_o.best_params_)\n",
        "print('X_train_word_lematized best accuracy score:', rf_random_w_o.best_score_)\n"
      ],
      "id": "52a95a4b"
    },
    {
      "cell_type": "markdown",
      "metadata": {
        "id": "ece8fb11"
      },
      "source": [
        "Grid Search with Cross Validation\n"
      ],
      "id": "ece8fb11"
    },
    {
      "cell_type": "code",
      "execution_count": null,
      "metadata": {
        "id": "a48f183a"
      },
      "outputs": [],
      "source": [
        "from sklearn.model_selection import GridSearchCV\n",
        "# Create the parameter grid based on the results of random search \n",
        "param_grid = {\n",
        "    'n_estimators': [ 80, 90, 100],\n",
        "    'min_samples_split': [7,8,9,10],\n",
        "    'min_samples_leaf': [7,8,9,10],\n",
        "    'max_features': ['log2'],\n",
        "    'max_depth': [7,8,9,10],\n",
        "    'bootstrap': [False,True],\n",
        "    'random_state': [23122003]}\n",
        "\n",
        "# Create a based model\n",
        "rf = RandomForestClassifier()\n",
        "# Instantiate the grid search model\n",
        "grid_search_1 = GridSearchCV(estimator = rf, param_grid = param_grid, \n",
        "                          cv = 3)\n",
        "grid_search_2 = GridSearchCV(estimator = rf, param_grid = param_grid, \n",
        "                          cv = 3)\n",
        "grid_search_3 = GridSearchCV(estimator = rf, param_grid = param_grid, \n",
        "                          cv = 3)\n",
        "grid_search_4 = GridSearchCV(estimator = rf, param_grid = param_grid, \n",
        "                          cv = 3)\n",
        "\n",
        "# Fit the grid search on each dataset\n",
        "grid_search_1.fit(X_train_5, y_train_5)\n",
        "grid_search_2.fit(X_train_l, y_train_l)\n",
        "grid_search_3.fit(X_train_world_original, y_train_world_original)\n",
        "grid_search_4.fit(X_train_word_lematized, y_train_word_lematized)\n",
        "\n",
        "print('5 synsets:' , grid_search_1.best_params_)\n",
        "print('5 synsets:', grid_search_1.best_score_)\n",
        "\n",
        "print('lesk:' , grid_search_2.best_params_)\n",
        "print('lesk:', grid_search_2.best_score_)\n",
        "\n",
        "print('word original:' , grid_search_3.best_params_)\n",
        "print('word original:', grid_search_3.best_score_)\n",
        "\n",
        "print('word lemmatized:' , grid_search_4.best_params_)\n",
        "print('word lemmatized:', grid_search_4.best_score_)\n"
      ],
      "id": "a48f183a"
    },
    {
      "cell_type": "code",
      "execution_count": null,
      "metadata": {
        "id": "zpKZjW2Vv4yO"
      },
      "outputs": [],
      "source": [
        "from sklearn.ensemble import RandomForestClassifier\n",
        "\n",
        "# Initialize the model with hyperparameters\n",
        "rf = RandomForestClassifier(random_state = 23122003, bootstrap = True, max_depth =  8, max_features= 'log2', min_samples_leaf = 10, min_samples_split= 7, n_estimators= 100)\n",
        "# Fit the model to the training data\n",
        "rf.fit(X_train_5, y_train_5)\n",
        "# Predict the labels of the test data\n",
        "y_pred = rf.predict(X_test_5)\n",
        "# Evaluate the model performance on the test data\n",
        "accuracy = rf.score(X_test_5, y_test_5)\n",
        "print(\"Random Forest accuracy 5 syn\", accuracy)\n",
        "\n",
        "# Initialize the model with hyperparameters\n",
        "rf = RandomForestClassifier(random_state = 23122003, bootstrap = True, max_depth =  9, max_features= 'log2', min_samples_leaf = 9, min_samples_split= 7, n_estimators= 90)\n",
        "# Fit the model to the training data\n",
        "rf.fit(X_train_l, y_train_l)\n",
        "# Predict the labels of the test data\n",
        "y_pred = rf.predict(X_test_lesk)\n",
        "# Evaluate the model performance on the test data\n",
        "accuracy = rf.score(X_test_lesk, y_test_lesk)\n",
        "print(\"Random Forest accuracy lesk\", accuracy)\n",
        "\n",
        "\n",
        "# Initialize the model with hyperparameters\n",
        "rf = RandomForestClassifier(random_state = 23122003, bootstrap = False, max_depth =  10, max_features= 'log2', min_samples_leaf = 9, min_samples_split= 7, n_estimators= 90)\n",
        "# Fit the model to the training data\n",
        "rf.fit(X_train_world_original, y_train_world_original)\n",
        "# Predict the labels of the test data\n",
        "y_pred = rf.predict(X_test_world_original)\n",
        "# Evaluate the model performance on the test data\n",
        "accuracy = rf.score(X_test_world_original, y_test_world_original)\n",
        "print(\"Random Forest accuracy word original:\", accuracy)\n",
        "\n",
        "\n",
        "\n",
        "# Initialize the model with hyperparameters\n",
        "rf = RandomForestClassifier(random_state = 23122003, bootstrap = False, max_depth =  10, max_features= 'log2', min_samples_leaf = 9, min_samples_split= 7, n_estimators= 90)\n",
        "# Fit the model to the training data\n",
        "rf.fit(X_train_word_lematized, y_train_word_lematized)\n",
        "# Predict the labels of the test data\n",
        "y_pred = rf.predict(X_test_word_lematized)\n",
        "# Evaluate the model performance on the test data\n",
        "accuracy = rf.score(X_test_word_lematized, y_test_word_lematized)\n",
        "print(\"Random Forest accuracy word lemmatized:\", accuracy)"
      ],
      "id": "zpKZjW2Vv4yO"
    },
    {
      "cell_type": "markdown",
      "metadata": {
        "id": "PWwCaKA4zEP9"
      },
      "source": [
        "***XGBOOST***"
      ],
      "id": "PWwCaKA4zEP9"
    },
    {
      "cell_type": "code",
      "execution_count": null,
      "metadata": {
        "id": "w4s_Yte3zH40"
      },
      "outputs": [],
      "source": [
        "import xgboost as xgb\n",
        "from sklearn.model_selection import RandomizedSearchCV\n",
        "\n",
        "# Define the hyperparameter grid\n",
        "params = {\n",
        "    'n_estimators': [50, 100, 150, 200],\n",
        "    'max_depth': [3, 5, 7, 9],\n",
        "    'learning_rate': [0.01, 0.1, 0.3],\n",
        "    'subsample': [0.5, 0.7, 0.9],\n",
        "    'colsample_bytree': [0.5, 0.7, 0.9],\n",
        "    'gamma': [0, 1, 5]\n",
        "}\n",
        "\n",
        "# Create an XGBoost classifier object\n",
        "xgb_model = xgb.XGBClassifier()\n",
        "\n",
        "# Define the RandomizedSearchCV objects for each dataset\n",
        "xgb_random_5 = RandomizedSearchCV(estimator=xgb_model, \n",
        "                            param_distributions=params, \n",
        "                            n_iter=50, \n",
        "                            cv=3, \n",
        "                            scoring='f1', \n",
        "                            random_state=23122003)\n",
        "\n",
        "xgb_random_lesk = RandomizedSearchCV(estimator=xgb_model, \n",
        "                            param_distributions=params, \n",
        "                            n_iter=50, \n",
        "                            cv=3, \n",
        "                            scoring='f1', \n",
        "                            random_state=23122003)\n",
        "\n",
        "xgb_random_w_o = RandomizedSearchCV(estimator=xgb_model, \n",
        "                            param_distributions=params, \n",
        "                            n_iter=50, \n",
        "                            cv=3, \n",
        "                            scoring='f1',\n",
        "                            random_state=23122003)\n",
        "\n",
        "xgb_random_w_l = RandomizedSearchCV(estimator=xgb_model, \n",
        "                            param_distributions=params, \n",
        "                            n_iter=50, \n",
        "                            cv=3, \n",
        "                            scoring='f1', \n",
        "                            random_state=23122003)\n",
        "\n",
        "# Fit the grid search on each dataset\n",
        "xgb_random_5.fit(X_train_5, y_train_5)\n",
        "xgb_random_lesk.fit(X_train_l, y_train_l)\n",
        "xgb_random_w_o.fit(X_train_world_original, y_train_world_original)\n",
        "xgb_random_w_l.fit(X_train_word_lematized, y_train_word_lematized)\n",
        "\n",
        "# Print the best hyperparameters and corresponding scores for each dataset\n",
        "print('X_train_5_syn best hyperparameters:', xgb_random_5.best_params_)\n",
        "print('X_train_5_syn best F1 score:', xgb_random_5.best_score_)\n",
        "\n",
        "print('X_train_lesk best hyperparameters:', xgb_random_lesk.best_params_)\n",
        "print('X_train_lesk best F1 score:', xgb_random_lesk.best_score_)\n",
        "\n",
        "print('X_train_world_original best hyperparameters:', xgb_random_w_o.best_params_)\n",
        "print('X_train_world_original best F1 score:', xgb_random_w_o.best_score_)\n",
        "\n",
        "print('X_train_word_lematized best hyperparameters:', xgb_random_w_l.best_params_)\n",
        "print('X_train_word_lematized best F1 score:', xgb_random_w_l.best_score_)\n",
        "\n"
      ],
      "id": "w4s_Yte3zH40"
    },
    {
      "cell_type": "code",
      "execution_count": null,
      "metadata": {
        "id": "UVzx6IBiSqkW"
      },
      "outputs": [],
      "source": [
        "from xgboost import XGBClassifier\n",
        "from sklearn.model_selection import GridSearchCV\n",
        "\n",
        "# Define the hyperparameter grid\n",
        "param_grid = {\n",
        "    'n_estimators': [150, 200],\n",
        "    'gamma': [0.1, 1],\n",
        "    'subsample': [ 0.9, 0.7],\n",
        "    'colsample_bytree': [0.5, 0.8],\n",
        "    'max_depth': [3, 5, 9],\n",
        "    'learning_rate': [0.01, 0.1],\n",
        "    'random_state': [23122003]\n",
        "}\n",
        "\n",
        "# Create an XGBClassifier object\n",
        "xgb = XGBClassifier()\n",
        "\n",
        "# Define the GridSearchCV objects\n",
        "grid_search_1 = GridSearchCV(estimator=xgb, \n",
        "                             param_grid=param_grid, \n",
        "                             cv=3) \n",
        "                             \n",
        "grid_search_2 = GridSearchCV(estimator=xgb, \n",
        "                             param_grid=param_grid, \n",
        "                             cv=3, \n",
        "                             )\n",
        "grid_search_3 = GridSearchCV(estimator=xgb, \n",
        "                             param_grid=param_grid, \n",
        "                             cv=3 \n",
        "                             )\n",
        "grid_search_4 = GridSearchCV(estimator=xgb, \n",
        "                             param_grid=param_grid, \n",
        "                             cv=3\n",
        "                             )\n",
        "\n",
        "# Fit the grid search on each dataset\n",
        "grid_search_1.fit(X_train_5, y_train_5)\n",
        "grid_search_2.fit(X_train_l, y_train_l)\n",
        "grid_search_3.fit(X_train_world_original, y_train_world_original)\n",
        "grid_search_4.fit(X_train_word_lematized, y_train_word_lematized)\n",
        "\n",
        "# Print the best hyperparameters and corresponding scores for each dataset\n",
        "print('X_train_5_syn best hyperparameters:', grid_search_1.best_params_)\n",
        "print('X_train_5_syn best score:', grid_search_1.best_score_)\n",
        "\n",
        "print('X_train_lesk best hyperparameters:', grid_search_2.best_params_)\n",
        "print('X_train_lesk best score:', grid_search_2.best_score_)\n",
        "\n",
        "print('X_train_world_original best hyperparameters:', grid_search_3.best_params_)\n",
        "print('X_train_world_original best score:', grid_search_3.best_score_)\n",
        "\n",
        "print('X_train_word_lematized best hyperparameters:', grid_search_4.best_params_)\n",
        "print('X_train_word_lematized best score:', grid_search_4.best_score_)\n"
      ],
      "id": "UVzx6IBiSqkW"
    },
    {
      "cell_type": "code",
      "execution_count": null,
      "metadata": {
        "id": "Sg3zbh0HWBfl"
      },
      "outputs": [],
      "source": [
        "from xgboost import XGBClassifier\n",
        "\n",
        "# Initialize the model with hyperparameters\n",
        "xgb = XGBClassifier(colsample_bytree = 0.5, gamma = 1, learning_rate = 0.1, max_depth = 5, n_estimators = 150, random_state = 23122003, subsample =  0.7)\n",
        "# Fit the model to the training data\n",
        "xgb.fit(X_train_5, y_train_5)\n",
        "# Predict the labels of the test data\n",
        "y_pred = xgb.predict(X_test_5)\n",
        "# Evaluate the model performance on the test data\n",
        "accuracy = xgb.score(X_test_5, y_test_5)\n",
        "print(\"XGBClassifier accuracy 5 syn:\", accuracy)\n",
        "\n",
        "# Initialize the model with hyperparameters\n",
        "xgb = XGBClassifier(colsample_bytree = 0.5, gamma = 0.1, learning_rate = 0.1, max_depth = 3, n_estimators = 150, random_state = 23122003, subsample =  0.7)\n",
        "# Fit the model to the training data\n",
        "xgb.fit(X_train_l, y_train_l)\n",
        "# Predict the labels of the test data\n",
        "y_pred = xgb.predict(X_test_lesk)\n",
        "# Evaluate the model performance on the test data\n",
        "accuracy = xgb.score(X_test_lesk, y_test_lesk)\n",
        "print(\"XGBClassifier accuracy lesk:\", accuracy)\n",
        "\n",
        "# Initialize the model with hyperparameters\n",
        "xgb = XGBClassifier(colsample_bytree = 0.8, gamma = 1, learning_rate = 0.1, max_depth = 9, n_estimators = 200, random_state = 23122003, subsample =  0.9)\n",
        "# Fit the model to the training data\n",
        "xgb.fit(X_train_world_original, y_train_world_original)\n",
        "# Predict the labels of the test data\n",
        "y_pred = xgb.predict(X_test_world_original)\n",
        "# Evaluate the model performance on the test data\n",
        "accuracy = xgb.score(X_test_world_original, y_test_world_original)\n",
        "print(\"XGBClassifier accuracy word original:\", accuracy)\n",
        "\n",
        "# Initialize the model with hyperparameters\n",
        "xgb = XGBClassifier(colsample_bytree = 0.5, gamma = 0.1, learning_rate = 0.1, max_depth = 9, n_estimators = 150, random_state = 23122003, subsample =  0.7)\n",
        "# Fit the model to the training data\n",
        "xgb.fit(X_train_word_lematized, y_train_word_lematized)\n",
        "# Predict the labels of the test data\n",
        "y_pred = xgb.predict(X_test_word_lematized)\n",
        "# Evaluate the model performance on the test data\n",
        "accuracy = xgb.score(X_test_word_lematized, y_test_word_lematized)\n",
        "print(\"XGBClassifier accuracy word lemmatized:\", accuracy)\n"
      ],
      "id": "Sg3zbh0HWBfl"
    },
    {
      "cell_type": "markdown",
      "metadata": {
        "id": "gXNfb1iWH0s5"
      },
      "source": [
        "# 2 b)\n"
      ],
      "id": "gXNfb1iWH0s5"
    },
    {
      "cell_type": "markdown",
      "source": [
        "### Confusion Matrix"
      ],
      "metadata": {
        "id": "m6zhaaKfCrPG"
      },
      "id": "m6zhaaKfCrPG"
    },
    {
      "cell_type": "code",
      "execution_count": null,
      "metadata": {
        "id": "htmGalF2Xm2U"
      },
      "outputs": [],
      "source": [
        "\n",
        "def confusion_matrix(TP, TN, FP, FN):\n",
        "    matriz = np.array([[TP, FP], [FN, TN]])\n",
        "    etiquetas = ['Positius', 'Negatius']\n",
        "    \n",
        "    fig, ax = plt.subplots()\n",
        "    im = ax.imshow(matriz, cmap='Purples', vmin=0, vmax=1000)\n",
        "    ax.set_xticks(np.arange(len(etiquetas)))\n",
        "    ax.set_yticks(np.arange(len(etiquetas)))\n",
        "    ax.set_xticklabels(['Real: ' + etiqueta for etiqueta in etiquetas])\n",
        "    ax.set_yticklabels(['Predits: ' + etiqueta for etiqueta in etiquetas])\n",
        "    \n",
        "    # Anotar los valores en las celdas\n",
        "    for i in range(len(etiquetas)):\n",
        "        for j in range(len(etiquetas)):\n",
        "            text = ax.text(j, i, matriz[i, j],\n",
        "                           ha=\"center\", va=\"center\", color=\"w\")\n",
        "    \n",
        "    ax.set_title(\"Matriu de Confusió\")\n",
        "    fig.tight_layout()\n",
        "    plt.show()"
      ],
      "id": "htmGalF2Xm2U"
    },
    {
      "cell_type": "markdown",
      "source": [
        "### Funció de Predicció\n"
      ],
      "metadata": {
        "id": "NLYHee1FC3rZ"
      },
      "id": "NLYHee1FC3rZ"
    },
    {
      "cell_type": "code",
      "execution_count": null,
      "metadata": {
        "id": "7wllBLkpJpzt"
      },
      "outputs": [],
      "source": [
        "def prediccio(_positius, _negatius, weight=1, adj = False):\n",
        "  TP = 0\n",
        "  FN = 0\n",
        "  for text in _positius:\n",
        "    text_prep = preprocessador(text)\n",
        "    pos_rating = 0\n",
        "    neg_rating = 0\n",
        "    if adj == False:\n",
        "      tokenized = nltk.word_tokenize(text_prep)\n",
        "    else:\n",
        "      tokenized = adjectius(text)\n",
        "\n",
        "    for word in tokenized:\n",
        "      synset = nltk.wsd.lesk(text, word)\n",
        "      if synset is not None:\n",
        "        # getting the sentiwordnet synset\n",
        "        sentiSynset = swn.senti_synset(synset.name())\n",
        "        pos_rating += sentiSynset.pos_score()\n",
        "        neg_rating += sentiSynset.neg_score()\n",
        "\n",
        "    if pos_rating > weight*neg_rating:\n",
        "      TP += 1\n",
        "    else:\n",
        "      FN += 1\n",
        "\n",
        "  print('Positive reviews done!')\n",
        "  TN = 0\n",
        "  FP = 0\n",
        "  for text in _negatius:\n",
        "    text_prep = preprocessador(text)\n",
        "    pos_rating = 0\n",
        "    neg_rating = 0\n",
        "\n",
        "    if adj == False:\n",
        "      tokenized = nltk.word_tokenize(text_prep)\n",
        "    else:\n",
        "      tokenized = adjectius(text)\n",
        "\n",
        "    for word in tokenized:\n",
        "      synset = nltk.wsd.lesk(text, word)\n",
        "      if synset is not None:\n",
        "        # getting the sentiwordnet synset\n",
        "        sentiSynset = swn.senti_synset(synset.name())\n",
        "        pos_rating += sentiSynset.pos_score()\n",
        "        neg_rating += sentiSynset.neg_score()\n",
        "\n",
        "    if weight*neg_rating >= pos_rating:\n",
        "      TN += 1\n",
        "    else:\n",
        "      FP += 1\n",
        "\n",
        "  print(f'TP:{TP}, TN:{TN}, FP:{FP}, FN:{FN}')\n",
        "  return TP, TN, FP, FN\n",
        "\n",
        "\n",
        "\n"
      ],
      "id": "7wllBLkpJpzt"
    },
    {
      "cell_type": "code",
      "source": [
        "TP, TN, FP, FN = prediccio(_positius, _negatius)\n",
        "confusion_matrix(TP, TN, FP, FN)"
      ],
      "metadata": {
        "colab": {
          "base_uri": "https://localhost:8080/",
          "height": 522
        },
        "id": "MrUUDBF9I1VG",
        "outputId": "f77a7043-1504-4020-a977-dcf77dc35f04"
      },
      "id": "MrUUDBF9I1VG",
      "execution_count": null,
      "outputs": [
        {
          "output_type": "stream",
          "name": "stdout",
          "text": [
            "Positive reviews done!\n",
            "TP:671, TN:589, FP:411, FN:329\n"
          ]
        },
        {
          "output_type": "display_data",
          "data": {
            "text/plain": [
              "<Figure size 640x480 with 1 Axes>"
            ],
            "image/png": "[encoded data removed]"
          },
          "metadata": {}
        }
      ]
    },
    {
      "cell_type": "markdown",
      "source": [
        "### Experiment 2.1: Weighted Tokenizing"
      ],
      "metadata": {
        "id": "AHugW6yIItP9"
      },
      "id": "AHugW6yIItP9"
    },
    {
      "cell_type": "markdown",
      "source": [
        "#### ROC Curve Plot"
      ],
      "metadata": {
        "id": "h9Z8--sxJFak"
      },
      "id": "h9Z8--sxJFak"
    },
    {
      "cell_type": "code",
      "source": [
        "def rocplot(fp_rates, tp_rates, models):\n",
        "  # List of models\n",
        "  # Plot ROC curve\n",
        "  plt.plot(fp_rates, tp_rates, 'b-', label='ROC curve')\n",
        "  plt.scatter(fp_rates, tp_rates, c='r', marker='o', label='Models')\n",
        "  plt.plot([0, 1], [0, 1], 'r--', label='Random')\n",
        "  plt.xlabel('False Positive Rate')\n",
        "  plt.ylabel('True Positive Rate')\n",
        "  plt.title('ROC Curve')\n",
        "  plt.legend(loc='lower right')\n",
        "  plt.grid(True)\n",
        "\n",
        "  # Mark the models on the ROC curve\n",
        "  for i, model in enumerate(models):\n",
        "      plt.annotate(model, (fp_rates[i], tp_rates[i]), textcoords=\"offset points\", xytext=(5,5), ha='center')\n",
        "\n",
        "  plt.xlim([min(fp_rates), max(fp_rates)])\n",
        "  plt.ylim([min(tp_rates), max(tp_rates)])\n",
        "  plt.show()\n"
      ],
      "metadata": {
        "id": "FLADtxyCHcK-"
      },
      "id": "FLADtxyCHcK-",
      "execution_count": null,
      "outputs": []
    },
    {
      "cell_type": "code",
      "source": [
        "i = 1\n",
        "best_acc = (0,0)\n",
        "tp_rates = []\n",
        "fp_rates = []\n",
        "models = []\n",
        "while i <= 1.1:\n",
        "  TP, TN, FP, FN = prediccio(_positius, _negatius, i)\n",
        "  acc = (TP+TN)/(FP+FN+TP+TN)\n",
        "  if acc > best_acc[0]:\n",
        "    best_acc = (acc, i)\n",
        "  i += 0.005\n",
        "  tp_rates.append(TP)\n",
        "  fp_rates.append(FP)\n",
        "  models.append(round(i,3))\n"
      ],
      "metadata": {
        "colab": {
          "base_uri": "https://localhost:8080/"
        },
        "id": "-2Pv0rNtDVgx",
        "outputId": "4815bcce-ad6c-4858-ec22-6578552a4b68"
      },
      "id": "-2Pv0rNtDVgx",
      "execution_count": null,
      "outputs": [
        {
          "output_type": "stream",
          "name": "stdout",
          "text": [
            "Positive reviews done!\n",
            "TP:671, TN:589, FP:411, FN:329\n",
            "Positive reviews done!\n",
            "TP:669, TN:591, FP:409, FN:331\n",
            "Positive reviews done!\n",
            "TP:661, TN:602, FP:398, FN:339\n",
            "Positive reviews done!\n",
            "TP:653, TN:616, FP:384, FN:347\n",
            "Positive reviews done!\n",
            "TP:647, TN:626, FP:374, FN:353\n",
            "Positive reviews done!\n",
            "TP:638, TN:635, FP:365, FN:362\n",
            "Positive reviews done!\n",
            "TP:629, TN:644, FP:356, FN:371\n",
            "Positive reviews done!\n",
            "TP:619, TN:651, FP:349, FN:381\n",
            "Positive reviews done!\n",
            "TP:618, TN:660, FP:340, FN:382\n",
            "Positive reviews done!\n",
            "TP:609, TN:671, FP:329, FN:391\n",
            "Positive reviews done!\n",
            "TP:596, TN:674, FP:326, FN:404\n",
            "Positive reviews done!\n",
            "TP:589, TN:686, FP:314, FN:411\n",
            "Positive reviews done!\n",
            "TP:582, TN:694, FP:306, FN:418\n",
            "Positive reviews done!\n",
            "TP:569, TN:700, FP:300, FN:431\n",
            "Positive reviews done!\n",
            "TP:564, TN:707, FP:293, FN:436\n",
            "Positive reviews done!\n",
            "TP:557, TN:714, FP:286, FN:443\n",
            "Positive reviews done!\n",
            "TP:555, TN:719, FP:281, FN:445\n",
            "Positive reviews done!\n",
            "TP:545, TN:726, FP:274, FN:455\n",
            "Positive reviews done!\n",
            "TP:538, TN:732, FP:268, FN:462\n",
            "Positive reviews done!\n",
            "TP:532, TN:739, FP:261, FN:468\n",
            "Positive reviews done!\n",
            "TP:525, TN:744, FP:256, FN:475\n"
          ]
        }
      ]
    },
    {
      "cell_type": "code",
      "source": [
        "rocplot(fp_rates, tp_rates, models)"
      ],
      "metadata": {
        "colab": {
          "base_uri": "https://localhost:8080/",
          "height": 472
        },
        "id": "pXKFrkZGFuYk",
        "outputId": "8d86a5a6-830d-4cd9-f63d-50521e37e286"
      },
      "id": "pXKFrkZGFuYk",
      "execution_count": null,
      "outputs": [
        {
          "output_type": "display_data",
          "data": {
            "text/plain": [
              "<Figure size 640x480 with 1 Axes>"
            ],
            "image/png": "[encoded data removed]"
          },
          "metadata": {}
        }
      ]
    },
    {
      "cell_type": "code",
      "source": [
        "best_acc"
      ],
      "metadata": {
        "colab": {
          "base_uri": "https://localhost:8080/"
        },
        "id": "xjHe5MzzPYnz",
        "outputId": "801fda3a-a74f-4f51-b56f-a18cd434553e"
      },
      "id": "xjHe5MzzPYnz",
      "execution_count": null,
      "outputs": [
        {
          "output_type": "execute_result",
          "data": {
            "text/plain": [
              "(0.64, 1.044999999999999)"
            ]
          },
          "metadata": {},
          "execution_count": 18
        }
      ]
    },
    {
      "cell_type": "markdown",
      "source": [
        "### Experiment 2.2: Weighted Adjectives"
      ],
      "metadata": {
        "id": "lp-z3suWJu05"
      },
      "id": "lp-z3suWJu05"
    },
    {
      "cell_type": "code",
      "execution_count": null,
      "metadata": {
        "id": "uL7lGMJGUe2T"
      },
      "outputs": [],
      "source": [
        "def adjectius(texto):\n",
        "    # Tokenizar el texto en oraciones y palabras\n",
        "    oraciones = nltk.sent_tokenize(texto)\n",
        "    palabras = [nltk.word_tokenize(oracion) for oracion in oraciones]\n",
        "    \n",
        "    # Etiquetar las partes del discurso de las palabras\n",
        "    pos_palabras = [nltk.pos_tag(oracion) for oracion in palabras]\n",
        "    \n",
        "    # Filtrar solo los adjetivos\n",
        "    adjetivos = []\n",
        "    for oracion in pos_palabras:\n",
        "        for palabra in oracion:\n",
        "            if 'JJ' in palabra[1]:\n",
        "                adjetivos.append(palabra[0])\n",
        "    \n",
        "    return adjetivos"
      ],
      "id": "uL7lGMJGUe2T"
    },
    {
      "cell_type": "code",
      "source": [
        "i = 1\n",
        "best_acc = (0,0)\n",
        "tp_rates = []\n",
        "fp_rates = []\n",
        "models = []\n",
        "while i <= 1.1:\n",
        "  TP, TN, FP, FN = prediccio(_positius, _negatius, i, adj = True)\n",
        "  acc = (TP+TN)/(FP+FN+TP+TN)\n",
        "  if acc > best_acc[0]:\n",
        "    best_acc = (acc, i)\n",
        "  i += 0.005\n",
        "  tp_rates.append(TP)\n",
        "  fp_rates.append(FP)\n",
        "  models.append(round(i,3))\n"
      ],
      "metadata": {
        "colab": {
          "base_uri": "https://localhost:8080/"
        },
        "id": "4DtnfO8-QDRB",
        "outputId": "1714e168-721b-42d0-9bfa-c646c2cb6c4b"
      },
      "id": "4DtnfO8-QDRB",
      "execution_count": null,
      "outputs": [
        {
          "output_type": "stream",
          "name": "stdout",
          "text": [
            "Positive reviews done!\n",
            "TP:667, TN:636, FP:364, FN:333\n",
            "Positive reviews done!\n",
            "TP:667, TN:636, FP:364, FN:333\n",
            "Positive reviews done!\n",
            "TP:666, TN:637, FP:363, FN:334\n",
            "Positive reviews done!\n",
            "TP:662, TN:639, FP:361, FN:338\n",
            "Positive reviews done!\n",
            "TP:659, TN:644, FP:356, FN:341\n",
            "Positive reviews done!\n",
            "TP:652, TN:646, FP:354, FN:348\n",
            "Positive reviews done!\n",
            "TP:645, TN:652, FP:348, FN:355\n",
            "Positive reviews done!\n",
            "TP:641, TN:655, FP:345, FN:359\n",
            "Positive reviews done!\n",
            "TP:635, TN:658, FP:342, FN:365\n",
            "Positive reviews done!\n",
            "TP:632, TN:665, FP:335, FN:368\n",
            "Positive reviews done!\n",
            "TP:628, TN:671, FP:329, FN:372\n",
            "Positive reviews done!\n",
            "TP:627, TN:675, FP:325, FN:373\n",
            "Positive reviews done!\n",
            "TP:620, TN:680, FP:320, FN:380\n",
            "Positive reviews done!\n",
            "TP:611, TN:685, FP:315, FN:389\n",
            "Positive reviews done!\n",
            "TP:607, TN:689, FP:311, FN:393\n",
            "Positive reviews done!\n",
            "TP:599, TN:692, FP:308, FN:401\n",
            "Positive reviews done!\n",
            "TP:592, TN:695, FP:305, FN:408\n",
            "Positive reviews done!\n",
            "TP:587, TN:697, FP:303, FN:413\n",
            "Positive reviews done!\n",
            "TP:583, TN:700, FP:300, FN:417\n",
            "Positive reviews done!\n",
            "TP:575, TN:707, FP:293, FN:425\n",
            "Positive reviews done!\n",
            "TP:569, TN:712, FP:288, FN:431\n"
          ]
        }
      ]
    },
    {
      "cell_type": "code",
      "source": [
        "rocplot(fp_rates, tp_rates, models)"
      ],
      "metadata": {
        "colab": {
          "base_uri": "https://localhost:8080/",
          "height": 472
        },
        "id": "z4thYlsGY56Y",
        "outputId": "89d2f5cf-38e7-414c-d3c9-db68e9a19684"
      },
      "id": "z4thYlsGY56Y",
      "execution_count": null,
      "outputs": [
        {
          "output_type": "display_data",
          "data": {
            "text/plain": [
              "<Figure size 640x480 with 1 Axes>"
            ],
            "image/png": "[encoded data removed]"
          },
          "metadata": {}
        }
      ]
    },
    {
      "cell_type": "code",
      "source": [
        "best_acc"
      ],
      "metadata": {
        "colab": {
          "base_uri": "https://localhost:8080/"
        },
        "id": "T3YUNrjXZjcJ",
        "outputId": "d5fb4ff9-1646-4012-8c3a-41b877b2f057"
      },
      "id": "T3YUNrjXZjcJ",
      "execution_count": null,
      "outputs": [
        {
          "output_type": "execute_result",
          "data": {
            "text/plain": [
              "(0.6515, 1)"
            ]
          },
          "metadata": {},
          "execution_count": 24
        }
      ]
    },
    {
      "cell_type": "code",
      "source": [
        "TP, TN, FP, FN = prediccio(_positius, _negatius, 1, adj = True)"
      ],
      "metadata": {
        "colab": {
          "base_uri": "https://localhost:8080/"
        },
        "id": "lSmYiHpxZ1vE",
        "outputId": "b42ce0a6-6cf8-4f29-c240-bac5477ba31d"
      },
      "id": "lSmYiHpxZ1vE",
      "execution_count": null,
      "outputs": [
        {
          "output_type": "stream",
          "name": "stdout",
          "text": [
            "Positive reviews done!\n",
            "TP:667, TN:636, FP:364, FN:333\n"
          ]
        }
      ]
    },
    {
      "cell_type": "code",
      "execution_count": null,
      "metadata": {
        "id": "2stpMnzTTX-a",
        "colab": {
          "base_uri": "https://localhost:8080/"
        },
        "outputId": "7569192e-6a20-4dff-ebb9-87036a91157c"
      },
      "outputs": [
        {
          "output_type": "stream",
          "name": "stdout",
          "text": [
            "Accuracy: 0.6515, F1 Score: 0.667\n"
          ]
        }
      ],
      "source": [
        "print(f'Accuracy: {(TP+TN)/(FP+FN+TP+TN)}, F1 Score: {TP/(TP+FN)}')"
      ],
      "id": "2stpMnzTTX-a"
    },
    {
      "cell_type": "code",
      "execution_count": null,
      "metadata": {
        "id": "F-4WYSZJZBb3",
        "colab": {
          "base_uri": "https://localhost:8080/",
          "height": 487
        },
        "outputId": "76a9d0a5-b888-46c9-ae3e-c3b6d07b1eaf"
      },
      "outputs": [
        {
          "output_type": "display_data",
          "data": {
            "text/plain": [
              "<Figure size 640x480 with 1 Axes>"
            ],
            "image/png": "[encoded data removed]"
          },
          "metadata": {}
        }
      ],
      "source": [
        "confusion_matrix(TP, TN, FP, FN)"
      ],
      "id": "F-4WYSZJZBb3"
    },
    {
      "cell_type": "code",
      "execution_count": null,
      "metadata": {
        "collapsed": true,
        "id": "mV5Up5HvWkQ_"
      },
      "outputs": [],
      "source": [
        "print(f'Accuracy: {(TP+TN)/(FP+FN+TP+TN)}, F1 Score: {TP/(TP+((FN+FP)/2))}')"
      ],
      "id": "mV5Up5HvWkQ_"
    },
    {
      "cell_type": "code",
      "execution_count": null,
      "metadata": {
        "id": "1uOGxub1XteD"
      },
      "outputs": [],
      "source": [
        "confusion_matrix(TP, TN, FP, FN)"
      ],
      "id": "1uOGxub1XteD"
    }
  ],
  "metadata": {
    "colab": {
      "provenance": []
    },
    "gpuClass": "standard",
    "kernelspec": {
      "display_name": "Python 3 (ipykernel)",
      "language": "python",
      "name": "python3"
    },
    "language_info": {
      "codemirror_mode": {
        "name": "ipython",
        "version": 3
      },
      "file_extension": ".py",
      "mimetype": "text/x-python",
      "name": "python",
      "nbconvert_exporter": "python",
      "pygments_lexer": "ipython3",
      "version": "3.10.5"
    }
  },
  "nbformat": 4,
  "nbformat_minor": 5
}